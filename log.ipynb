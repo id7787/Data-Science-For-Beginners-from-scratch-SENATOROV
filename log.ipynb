{
 "cells": [
  {
   "cell_type": "code",
   "execution_count": null,
   "metadata": {
    "vscode": {
     "languageId": "plaintext"
    }
   },
   "outputs": [],
   "source": []
  },
  {
   "cell_type": "code",
   "execution_count": null,
   "metadata": {},
   "outputs": [],
   "source": [
    "\"\"\"урок по математике.\"\"\""
   ]
  },
  {
   "cell_type": "markdown",
   "metadata": {},
   "source": [
    "17.02.2025.\n",
    "\n",
    "\"supervise learning\" - обучение с учителем.\n",
    "есть data, ничего не размечаем, обучаемся по target.\n",
    "\n",
    "regression is a process for finding the relationship between the input data and output data.\n",
    "training data.\n",
    "\n",
    "y_n = f(x_n).\n",
    "\n",
    "a regression problem is about finding the best approximation to the input-output relationship of the data.\n",
    "\n",
    "The idea of regression is to add a structure to the problem; lets find g_0(.);\n",
    "this proxy g_0(.) takes a certain parametric form, we can postulate that (x_n,y_n)\n",
    "has  a linear relationship so g_0(x_n) = θ_1*x_n + θ_0, for n = 1, ... N; slope θ_1 and y-intercept = θ_0;\n",
    "where θ_1 and θ_0 - the parameter of model f.\n",
    "\n",
    "e_n - the 'error' between our model and real data.\n",
    "e_n = y_true - y_pred = y_n - g_θ(x_n), for n = 1, ... N.\n",
    "\n",
    "the purpose of regression is to find the best θ such that the error is minimized."
   ]
  },
  {
   "cell_type": "markdown",
   "metadata": {},
   "source": [
    "21.02.2025.\n",
    "\n",
    "Настраивал GitHub."
   ]
  },
  {
   "cell_type": "markdown",
   "metadata": {},
   "source": [
    "10.03.2025.\n",
    "\n",
    "\n",
    "If the function g_0(.) - linear function we call regression linear regression.\n",
    "[What is regression?](qw.jpg)\n",
    "\n",
    "scatter plot - график рассеивания\n",
    "\n",
    "Fitting the data\n",
    "Suppose we have a set of data points (x1,y1), ... (x_n,y_n), where x_n's are the inputs and y_n's are the outputs. These pairs of data points can be plotted in a scatter plot. We want to find the curve that best fits the data.\n",
    "\n",
    "To solve this problem, we first need to choose a model, for example\n",
    "\n",
    "g_θ(x_n) = θ_0 + θ_1*x_n + θ_2*(x_n)^2 + θ_3*(x_n)^3 + θ_4*(x_n)^4\n",
    "\n",
    "where θ_1,θ_2,θ_3,θ_4 - weights or regression coefficients. They can be found by solving optimization problem:\n",
    "\n",
    "minimize Sigma from n=1 to n=N (y_n-(θ_0 + θ_1*x_n + θ_2*(x_n)^2 + θ_3*(x_n)^3 + θ_4*(x_n)^4))^2\n",
    "\n",
    "специалист опечатался - получился выброс\n",
    "\n",
    "[graph](qw2.jpg)\n",
    "\n",
    "вторая производная позволяет понять ландшафт функции(позволяет найти вогнутость или выпуклость функции, а так же точки перегиба)\n",
    "\n",
    "в критических точках - производная либо не существует, либо = 0 \n",
    "\n"
   ]
  }
 ],
 "metadata": {
  "language_info": {
   "name": "python"
  }
 },
 "nbformat": 4,
 "nbformat_minor": 2
}
