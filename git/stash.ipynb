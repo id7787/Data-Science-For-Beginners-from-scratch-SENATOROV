{
 "cells": [
  {
   "cell_type": "code",
   "execution_count": 2,
   "metadata": {},
   "outputs": [
    {
     "data": {
      "text/plain": [
       "'урок по stash.'"
      ]
     },
     "execution_count": 2,
     "metadata": {},
     "output_type": "execute_result"
    }
   ],
   "source": [
    "\"\"\"урок по stash..\"\"\""
   ]
  },
  {
   "cell_type": "markdown",
   "metadata": {},
   "source": [
    "1. Что делает команда git stash?\n",
    "Сохраняет файлы из списка changes в буфер обмена(можно сохранить не все файлы из changes,  для этого используем команду stash(include untracked)).\n",
    "\n",
    "2. Как просмотреть список всех сохранённых изменений (стэшей)?\n",
    "source control(левый верхний угол) -> ... -> stash -> view stash.\n",
    "\n",
    "3. Какая команда применяется для использования верхнего стэша?\n",
    "git stash(include untracked).\n",
    "\n",
    "4. Как применить конкретный стэш по его номеру?\n",
    "... -> stash -> view stash -> и выбираем номер стэша в списке.\n",
    "\n",
    "5. Чем отличается команда git stash apply от git stash pop?\n",
    "git stash apply применяет stash, но не удаляет; git stash pop применяет и удаляет stash(git stash pop более сейвовый вариант нежели git stash drop).\n",
    "\n",
    "6. Что делает команда git stash drop?\n",
    "удаляет stash.\n",
    "\n",
    "7. Как полностью очистить все сохранённые стэши?\n",
    "stash -> drop all stashes.\n",
    "\n",
    "8. В каких случаях удобно использовать git stash?\n",
    "Нужно срочно переключиться на другую ветку или задачу.\n",
    "Например, вы работаете над новой функциональностью, но получаете запрос исправить ошибку в другой ветке. Используя git stash, вы сохраняете текущие изменения и переключаетесь на другую ветку.\n",
    "\n",
    "9. Что произойдёт, если выполнить git stash pop, но в проекте есть конфликтующие изменения?\n",
    "будет конфликт, stash не будет удален, команда остановится и git подсветит конфликтующие файлы.\n",
    "\n",
    "10. Можно ли восстановить удалённый стэш после выполнения git stash drop?\n",
    "нет, он утерян навсегда.\n",
    "\n",
    "11. Что делает команда git stash save \"NAME_STASH\"?\n",
    "сохраняет изменения в stash с именем \"NAME_STASH\".\n",
    "\n",
    "12. Что делает команда git stash apply \"NUMBER_STASH\"\n",
    "Команда git stash apply \"NUMBER_STASH\" используется для применения изменений, сохранённых в определённом stash, к текущей рабочей директории. Она позволяет вернуть изменения, которые были временно сохранены с помощью git stash, без удаления stash.\n",
    "\n",
    "13. Что делает команда git stash pop \"NUMBER_STASH\"\n",
    "Команда git stash pop \"NUMBER_STASH\" используется для применения изменений из определённого stash к текущей рабочей директории с последующим удалением этого stash из стека. Это удобно, если вы хотите вернуть временно сохранённые изменения и больше не нуждаетесь в этом stash.\n",
    "\n",
    "14. Сохраните текущие изменения в стэш под названием \"SENATOROV version 1\", вставьте скриншот из терминала.\n",
    "15. Внесите любые изменения в ваш репозиторий и сохраните второй стэш под именем \"SENATOROV version 2\".\n",
    "16. Восстановите ваш стэш \"SENATOROV ver1\", вставьте скриншот из терминала.\n",
    "17. Удалите все стеши из истории, вставьте скриншот из терминала.\n",
    "\n",
    "![скрин}(C:\\Users\\cherk\\Downloads\\code.jpg)."
   ]
  }
 ],
 "metadata": {
  "kernelspec": {
   "display_name": "Python 3",
   "language": "python",
   "name": "python3"
  },
  "language_info": {
   "codemirror_mode": {
    "name": "ipython",
    "version": 3
   },
   "file_extension": ".py",
   "mimetype": "text/x-python",
   "name": "python",
   "nbconvert_exporter": "python",
   "pygments_lexer": "ipython3",
   "version": "3.10.7"
  }
 },
 "nbformat": 4,
 "nbformat_minor": 2
}
